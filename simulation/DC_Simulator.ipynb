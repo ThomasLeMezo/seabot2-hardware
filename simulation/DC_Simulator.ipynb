{
 "cells": [
  {
   "cell_type": "code",
   "execution_count": 105,
   "id": "e541b585-1b07-4fc4-83c1-356039ad35e2",
   "metadata": {},
   "outputs": [],
   "source": [
    "import numpy as np\n",
    "%matplotlib inline\n",
    "import matplotlib.pyplot as plt\n",
    "plt.rcParams['figure.figsize'] = [15, 5]"
   ]
  },
  {
   "cell_type": "markdown",
   "id": "f225f88b-65b3-4452-8b46-27bc7b915a45",
   "metadata": {
    "tags": []
   },
   "source": [
    "# DC Motor simulation\n",
    "## Parameters\n",
    "### Motor\n",
    "[Maxon DCX 22 EB KL 12V](https://www.maxongroup.com/medias/sys_master/root/8881021878302/EN-21-101.pdf)\n",
    "11/20 W, 29.8 mNm, 7160 rpm"
   ]
  },
  {
   "cell_type": "code",
   "execution_count": 106,
   "id": "7ef3ab7d-cf3c-47fc-829e-31e6b7175248",
   "metadata": {},
   "outputs": [],
   "source": [
    "Maxon_RotorInertia = 9.0 # gcm2\n",
    "Maxon_SpeedConstant = 416 # rpm/V\n",
    "Maxon_TorqueConstant = 22.9 # mNm/A\n",
    "Maxon_TerminalResistance = 1.84 # Ohms\n",
    "Maxon_TerminalInductance = 0.198 # mH\n",
    "\n",
    "Maxon_NominalCurrent = 1.3 # A\n",
    "Maxon_NominalTorque = 29.5 # mMm\n",
    "Maxon_StallCurrent = 6.54 # A\n",
    "\n",
    "Maxon_MechanicalTimeConstant = 3.14e-3 # s"
   ]
  },
  {
   "cell_type": "markdown",
   "id": "b5106424-d503-4111-a5ca-b3d9dccc4647",
   "metadata": {},
   "source": [
    "Added Toroidal Inductance to limit dc motor iron losses"
   ]
  },
  {
   "cell_type": "code",
   "execution_count": 107,
   "id": "e5a3cc42-29e2-46c7-8dbe-938a7e103259",
   "metadata": {},
   "outputs": [],
   "source": [
    "Seabot_AddedInductance = 1.619e-3 # H\n",
    "Seabot_AddedInductanceResistance = 480e-3 # Ohms"
   ]
  },
  {
   "cell_type": "markdown",
   "id": "15d76e02-59ce-4e62-9cb6-21f3c0113f84",
   "metadata": {},
   "source": [
    "Parameters of the DC model"
   ]
  },
  {
   "cell_type": "code",
   "execution_count": 108,
   "id": "3f2cc771-0e30-4e76-a35d-a80de8e9cc85",
   "metadata": {},
   "outputs": [],
   "source": [
    "J = Maxon_RotorInertia * 1e-7 # Moment of inertia (kg.m^2)\n",
    "# b/J = 1/Tau where Tau = Maxon_MechanicalTimeConstant\n",
    "b = J/Maxon_MechanicalTimeConstant # Motor viscous friction constant (N.m.s) [ToDo : not directly given]\n",
    "Ke = 1./(Maxon_SpeedConstant*2.*np.pi/60.) # Electromotive force constant  (V/rad/sec)\n",
    "Kt = Maxon_TorqueConstant*1e-3 # Motor torque constant (N.m/Amp)\n",
    "R = Maxon_TerminalResistance + Seabot_AddedInductanceResistance # Electric resistance (Ohm)\n",
    "L = Maxon_TerminalInductance*1e-3 + Seabot_AddedInductance # Electric inductance (H)"
   ]
  },
  {
   "cell_type": "markdown",
   "id": "edf19891-9b6b-4110-b53e-5581e4557d3d",
   "metadata": {
    "tags": []
   },
   "source": [
    "### Reductor\n",
    "[GPX22UP 103:1](https://www.maxongroup.com/medias/sys_master/root/8882582683678/EN-21-352.pdf)\n",
    "3 stages"
   ]
  },
  {
   "cell_type": "code",
   "execution_count": 109,
   "id": "1318b573-6751-454a-9ba3-adfad71452f9",
   "metadata": {},
   "outputs": [],
   "source": [
    "Maxon_Reduction = 103 # 103:1\n",
    "Maxon_MaxContinuousTorque = 4.3 # Nm\n",
    "Maxon_MassInertia = 0.6 # gcm2"
   ]
  },
  {
   "cell_type": "markdown",
   "id": "5e29f134-f339-467c-97c8-60907f1f8a4f",
   "metadata": {},
   "source": [
    "### Endless Screw System"
   ]
  },
  {
   "cell_type": "code",
   "execution_count": 110,
   "id": "a82e43cc-da6b-466e-b65c-68f9809897ee",
   "metadata": {},
   "outputs": [],
   "source": [
    "Screw_Thread = 1e-3 # m\n",
    "Screw_Radius = 6e-3 # m\n",
    "Screw_FrictionCoefficient = 0.2 # To be correctly evaluated ! Copper-Copper = 1.2\n",
    "Piston_diam = 45e-3 # m "
   ]
  },
  {
   "cell_type": "markdown",
   "id": "fe75e746-6fff-4d24-8fa6-3475a8564512",
   "metadata": {},
   "source": [
    "### Environement"
   ]
  },
  {
   "cell_type": "code",
   "execution_count": 111,
   "id": "1425ddc0-b557-4978-ba6d-d22be8264515",
   "metadata": {},
   "outputs": [],
   "source": [
    "rho = 1025 # kg/m3\n",
    "g = 9.81 # m/s-3\n",
    "z_max = 100 # m"
   ]
  },
  {
   "cell_type": "markdown",
   "id": "947d0df9-412c-4cd4-888f-c9fbedb70e6a",
   "metadata": {},
   "source": [
    "## First validation\n",
    "* Compute the torque at requiered at 100m"
   ]
  },
  {
   "cell_type": "code",
   "execution_count": 112,
   "id": "a9d6dd55-a2c8-447a-aa04-9666bdfa514b",
   "metadata": {},
   "outputs": [
    {
     "name": "stdout",
     "output_type": "stream",
     "text": [
      "Force at 100 m = 1599.22 N\n",
      "Torque at 100 m = 2.79 Nm\n",
      "Equivalent in kg for test at 100m : 163.02 kg\n",
      "Equivalent in kg for test at 100m : 163.02 kg\n"
     ]
    }
   ],
   "source": [
    "pistonSurface = np.pi*(Piston_diam/2.)**2\n",
    "force100 = pistonSurface*rho*g*z_max\n",
    "print('Force at 100 m = {:.2f} N'.format(force100))\n",
    "\n",
    "i_screw=Screw_Thread/(2*Screw_Radius) # Note : error in the thesis formula : diam and not radius\n",
    "torque100 = force100*Screw_Radius*np.tan(Screw_FrictionCoefficient+i_screw)\n",
    "print('Torque at 100 m = {:.2f} Nm'.format(torque100))\n",
    "\n",
    "weight100 = force100/g\n",
    "print('Equivalent in kg for test at 100m : {:.2f} kg'.format(weight100))\n",
    "print('Equivalent in kg for test at 100m : {:.2f} kg'.format(weight100))"
   ]
  },
  {
   "cell_type": "markdown",
   "id": "b035795b-4416-43fd-ba81-a20fa8fb99b5",
   "metadata": {},
   "source": [
    "* Maximum torque at the output of the moto-reductor"
   ]
  },
  {
   "cell_type": "code",
   "execution_count": 113,
   "id": "d49472cc-96b2-41de-984b-a35d15bd96ee",
   "metadata": {},
   "outputs": [
    {
     "name": "stdout",
     "output_type": "stream",
     "text": [
      "Max Torque = 3.04 Nm\n"
     ]
    }
   ],
   "source": [
    "max_torque_maxon = Maxon_NominalTorque*1.e-3*Maxon_Reduction\n",
    "print('Max Torque = {:.2f} Nm'.format(max_torque_maxon))"
   ]
  },
  {
   "cell_type": "markdown",
   "id": "c0897731-606b-43ba-8e66-c642122b73ac",
   "metadata": {},
   "source": [
    "## Simulation\n"
   ]
  },
  {
   "cell_type": "code",
   "execution_count": 114,
   "id": "f9eca122-eacf-45e2-aa16-33a2691f7254",
   "metadata": {},
   "outputs": [
    {
     "name": "stdout",
     "output_type": "stream",
     "text": [
      "[[-3.18471338e+02  2.54444444e+04]\n",
      " [-1.26334837e+01 -1.27682994e+03]]\n",
      "[  0.         550.35773253]\n"
     ]
    }
   ],
   "source": [
    "A = np.array([[-b/J, Kt/J], [-Ke/L,-R/L]])\n",
    "B = np.array([0., 1./L])\n",
    "W = np.array([-1/J, 0.0])\n",
    "print(A)\n",
    "print(B)"
   ]
  },
  {
   "cell_type": "markdown",
   "id": "75fc52e0-94b8-44e8-9039-32b1c9fe4930",
   "metadata": {},
   "source": [
    "State space : x = [dtheta, i]\n",
    "\n",
    "Input : u = [V] "
   ]
  },
  {
   "cell_type": "code",
   "execution_count": 115,
   "id": "b61ac017-2f84-43ca-8cf3-d9a2123a68b3",
   "metadata": {},
   "outputs": [],
   "source": [
    "x = np.array([0., 0.])\n",
    "u = 12 # V\n",
    "torque = torque100/Maxon_Reduction\n",
    "torque_non_revers = torque\n",
    "dt = 1e-5\n",
    "tmax = 0.1\n",
    "result_x = np.array((0, x[0], x[1]))\n",
    "for t in np.arange(dt, tmax, dt):\n",
    "    if((Kt*x[1]-torque)<0):\n",
    "        torque_non_revers = Kt*x[1]\n",
    "    else:\n",
    "        torque_non_revers = torque\n",
    "    dx=A @ x + B*u + W*torque_non_revers\n",
    "    x+=dx*dt\n",
    "    \n",
    "    result_x = np.vstack([result_x, np.array((t, x[0], x[1]))])\n",
    "    "
   ]
  },
  {
   "cell_type": "code",
   "execution_count": 116,
   "id": "6111d159-0fa9-4cff-8b1d-bf52fd05d345",
   "metadata": {},
   "outputs": [
    {
     "name": "stdout",
     "output_type": "stream",
     "text": [
      "i_max = 4.317 A\n"
     ]
    },
    {
     "data": {
      "image/png": "[encoded data removed]",
      "text/plain": [
       "<Figure size 1080x360 with 2 Axes>"
      ]
     },
     "metadata": {
      "needs_background": "light"
     },
     "output_type": "display_data"
    }
   ],
   "source": [
    "# Display\n",
    "fig, axs = plt.subplots(1,2)\n",
    "fig.suptitle('Results')\n",
    "axs[0].plot(np.transpose(result_x)[0], np.transpose(result_x)[1])\n",
    "axs[0].set_xlabel('Time (in s)')\n",
    "axs[0].set_ylabel('dtheta (in rad/s)')\n",
    "\n",
    "axs[1].plot(np.transpose(result_x)[0], np.transpose(result_x)[2])\n",
    "axs[1].set_xlabel('Time (in s)')\n",
    "axs[1].set_ylabel('i (in A)')\n",
    "\n",
    "# Analysis\n",
    "print('i_max = {:.3f} A'.format(np.max(np.transpose(result_x)[2])))"
   ]
  },
  {
   "cell_type": "code",
   "execution_count": null,
   "id": "4c3ad864-f979-4525-89aa-f72cbc072129",
   "metadata": {},
   "outputs": [],
   "source": []
  }
 ],
 "metadata": {
  "kernelspec": {
   "display_name": "Python 3 (ipykernel)",
   "language": "python",
   "name": "python3"
  },
  "language_info": {
   "codemirror_mode": {
    "name": "ipython",
    "version": 3
   },
   "file_extension": ".py",
   "mimetype": "text/x-python",
   "name": "python",
   "nbconvert_exporter": "python",
   "pygments_lexer": "ipython3",
   "version": "3.9.7"
  }
 },
 "nbformat": 4,
 "nbformat_minor": 5
}
