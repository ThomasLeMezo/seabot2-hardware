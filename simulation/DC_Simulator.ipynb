{
 "cells": [
  {
   "cell_type": "code",
   "execution_count": 1,
   "id": "e541b585-1b07-4fc4-83c1-356039ad35e2",
   "metadata": {},
   "outputs": [],
   "source": [
    "import numpy as np\n",
    "%matplotlib inline\n",
    "import matplotlib.pyplot as plt\n",
    "plt.rcParams['figure.figsize'] = [15, 5]"
   ]
  },
  {
   "cell_type": "markdown",
   "id": "f225f88b-65b3-4452-8b46-27bc7b915a45",
   "metadata": {
    "tags": []
   },
   "source": [
    "# DC Motor simulation\n",
    "## Parameters\n",
    "### Motor\n",
    "[Maxon DCX 22 EB KL 12V](https://www.maxongroup.com/medias/sys_master/root/8881021878302/EN-21-101.pdf)\n",
    "11/20 W, 29.8 mNm, 7160 rpm"
   ]
  },
  {
   "cell_type": "code",
   "execution_count": 2,
   "id": "7ef3ab7d-cf3c-47fc-829e-31e6b7175248",
   "metadata": {},
   "outputs": [],
   "source": [
    "Maxon_RotorInertia = 9.0 # gcm2\n",
    "Maxon_SpeedConstant = 416 # rpm/V\n",
    "Maxon_TorqueConstant = 22.9 # mNm/A\n",
    "Maxon_TerminalResistance = 1.84 # Ohms\n",
    "Maxon_TerminalInductance = 0.198 # mH\n",
    "\n",
    "Maxon_NominalCurrent = 1.3 # A\n",
    "Maxon_NominalTorque = 29.5 # mMm\n",
    "Maxon_StallCurrent = 6.54 # A\n",
    "\n",
    "Maxon_MechanicalTimeConstant = 3.14e-3 # s"
   ]
  },
  {
   "cell_type": "markdown",
   "id": "b5106424-d503-4111-a5ca-b3d9dccc4647",
   "metadata": {},
   "source": [
    "Added Toroidal Inductance to limit dc motor iron losses"
   ]
  },
  {
   "cell_type": "code",
   "execution_count": 3,
   "id": "e5a3cc42-29e2-46c7-8dbe-938a7e103259",
   "metadata": {},
   "outputs": [],
   "source": [
    "Seabot_AddedInductance = 1.619e-3 # H\n",
    "Seabot_AddedInductanceResistance = 480e-3 # Ohms"
   ]
  },
  {
   "cell_type": "markdown",
   "id": "15d76e02-59ce-4e62-9cb6-21f3c0113f84",
   "metadata": {},
   "source": [
    "Parameters of the DC model\n",
    "https://ctms.engin.umich.edu/CTMS/index.php?example=MotorSpeed&section=SystemModeling\n",
    "\n",
    "https://aleksandarhaber.com/modeling-a-dc-motor-and-matlab-simulation/"
   ]
  },
  {
   "cell_type": "code",
   "execution_count": 41,
   "id": "3f2cc771-0e30-4e76-a35d-a80de8e9cc85",
   "metadata": {},
   "outputs": [],
   "source": [
    "J = Maxon_RotorInertia * 1e-7 # Moment of inertia (kg.m^2)\n",
    "Ke = 1./(Maxon_SpeedConstant*2.*np.pi/60.) # Electromotive force constant  (V/rad/sec)\n",
    "Kt = Maxon_TorqueConstant*1e-3 # Motor torque constant (N.m/Amp)\n",
    "R = Maxon_TerminalResistance + Seabot_AddedInductanceResistance # Electric resistance (Ohm)\n",
    "L = Maxon_TerminalInductance*1e-3 + Seabot_AddedInductance # Electric inductance (H)"
   ]
  },
  {
   "cell_type": "markdown",
   "id": "edf19891-9b6b-4110-b53e-5581e4557d3d",
   "metadata": {
    "tags": []
   },
   "source": [
    "### Reductor\n",
    "[GPX22UP 103:1](https://www.maxongroup.com/medias/sys_master/root/8882582683678/EN-21-352.pdf)\n",
    "3 stages"
   ]
  },
  {
   "cell_type": "code",
   "execution_count": 22,
   "id": "1318b573-6751-454a-9ba3-adfad71452f9",
   "metadata": {},
   "outputs": [],
   "source": [
    "Maxon_Reduction = 103 # 103:1\n",
    "Maxon_MaxContinuousTorque = 4.3 # Nm\n",
    "Maxon_MassInertia = 0.6 # gcm2"
   ]
  },
  {
   "cell_type": "markdown",
   "id": "5e29f134-f339-467c-97c8-60907f1f8a4f",
   "metadata": {},
   "source": [
    "### Endless Screw System"
   ]
  },
  {
   "cell_type": "code",
   "execution_count": 23,
   "id": "a82e43cc-da6b-466e-b65c-68f9809897ee",
   "metadata": {},
   "outputs": [],
   "source": [
    "Screw_Thread = 1e-3 # m\n",
    "Screw_Radius = 6e-3 # m\n",
    "Screw_FrictionCoefficient = 0.2 # To be correctly evaluated ! Copper-Copper = 1.2\n",
    "Piston_diam = 45e-3 # m\n",
    "\n",
    "quadrature_resolution = 2048 * 4"
   ]
  },
  {
   "cell_type": "markdown",
   "id": "fe75e746-6fff-4d24-8fa6-3475a8564512",
   "metadata": {},
   "source": [
    "### Environement"
   ]
  },
  {
   "cell_type": "code",
   "execution_count": 24,
   "id": "facd2d6f-3260-4fe4-abf3-7cf9f7b07426",
   "metadata": {},
   "outputs": [],
   "source": [
    "rho = 1025 # kg/m3\n",
    "g = 9.81 # m/s-3\n",
    "z_max = 100 # m"
   ]
  },
  {
   "cell_type": "code",
   "execution_count": 45,
   "id": "01b9c8fa-d6e6-4051-be91-4816f0d5c410",
   "metadata": {},
   "outputs": [],
   "source": [
    "sensor_current_sensitivity = 66e-3 # V/A\n",
    "dspic_adc_resolution = 1<<12 # resolution\n",
    "dspic_adc_vcc = 3.3 # V\n",
    "current_to_adc = sensor_current_sensitivity*dspic_adc_resolution/dspic_adc_vcc"
   ]
  },
  {
   "cell_type": "markdown",
   "id": "947d0df9-412c-4cd4-888f-c9fbedb70e6a",
   "metadata": {},
   "source": [
    "## First validation\n",
    "* Compute the torque at requiered at 100m"
   ]
  },
  {
   "cell_type": "code",
   "execution_count": 25,
   "id": "a9d6dd55-a2c8-447a-aa04-9666bdfa514b",
   "metadata": {},
   "outputs": [
    {
     "name": "stdout",
     "output_type": "stream",
     "text": [
      "Force at 100 m = 1599.22 N\n",
      "Torque at 100 m = 2.79 Nm\n",
      "Equivalent in kg for test at 100m : 163.02 kg\n"
     ]
    }
   ],
   "source": [
    "pistonSurface = np.pi*(Piston_diam/2.)**2\n",
    "force100 = pistonSurface*rho*g*z_max\n",
    "print('Force at 100 m = {:.2f} N'.format(force100))\n",
    "\n",
    "i_screw=Screw_Thread/(2*Screw_Radius) # Note : error in the thesis formula : diam and not radius\n",
    "force_to_torque_coeff = Screw_Radius*np.tan(Screw_FrictionCoefficient+i_screw)\n",
    "torque100 = force_to_torque_coeff*force100\n",
    "print('Torque at 100 m = {:.2f} Nm'.format(torque100))\n",
    "\n",
    "weight100 = force100/g\n",
    "print('Equivalent in kg for test at 100m : {:.2f} kg'.format(weight100))"
   ]
  },
  {
   "cell_type": "markdown",
   "id": "b035795b-4416-43fd-ba81-a20fa8fb99b5",
   "metadata": {},
   "source": [
    "* Maximum torque at the output of the moto-reductor"
   ]
  },
  {
   "cell_type": "code",
   "execution_count": 26,
   "id": "d49472cc-96b2-41de-984b-a35d15bd96ee",
   "metadata": {},
   "outputs": [
    {
     "name": "stdout",
     "output_type": "stream",
     "text": [
      "Nominal Torque (output reductor) = 3.04 Nm\n",
      "Torque at 100 (output motor) = 0.03 Nm\n"
     ]
    }
   ],
   "source": [
    "max_torque_maxon = Maxon_NominalTorque*1.e-3*Maxon_Reduction\n",
    "print('Nominal Torque (output reductor) = {:.2f} Nm'.format(max_torque_maxon))\n",
    "\n",
    "torque_at_z = pistonSurface*rho*g* force_to_torque_coeff / Maxon_Reduction\n",
    "print('Torque at 100 (output motor) = {:.2f} Nm'.format(torque_at_z*100))"
   ]
  },
  {
   "cell_type": "markdown",
   "id": "c0897731-606b-43ba-8e66-c642122b73ac",
   "metadata": {
    "tags": []
   },
   "source": [
    "## Simulation\n",
    "$J\\ddot\\theta=K_t i - z\\cdot\\text{torque_at_z}$\n",
    "\n",
    "(note : we do not take into account the \"No load current\")\n",
    "\n",
    "$L\\dot{i}+Ri=V-K_e\\dot\\theta$\n",
    "\n",
    "$\\frac{d}{dt}\\begin{bmatrix}\n",
    "\\theta \\\\\n",
    "\\dot\\theta \\\\\n",
    "i\n",
    "\\end{bmatrix}=\n",
    "\\begin{bmatrix}\n",
    "0 & 1 & 0 \\\\\n",
    "0 & 0 & \\frac{K_t}{J}\\\\\n",
    "0 & \\frac{-K_e}{L} & \\frac{-R}{L}\\\\\n",
    "\\end{bmatrix}\n",
    "\\begin{bmatrix}\n",
    "\\theta \\\\\n",
    "\\dot\\theta \\\\\n",
    "i\n",
    "\\end{bmatrix}+\\begin{bmatrix}\n",
    "0 & 0\\\\\n",
    "0 & \\frac{-\\text{torque_at_z}}{J}\\\\\n",
    "\\frac{1}{L} & 0\\\\\n",
    "\\end{bmatrix}\n",
    "\\begin{bmatrix}\n",
    "V \\\\\n",
    "z \\\\\n",
    "\\end{bmatrix}$"
   ]
  },
  {
   "cell_type": "code",
   "execution_count": 40,
   "id": "15ec43d2-83bb-4880-b195-e9bcc1c83bd0",
   "metadata": {},
   "outputs": [
    {
     "name": "stdout",
     "output_type": "stream",
     "text": [
      "A =  [[ 0.00000000e+00  1.00000000e+00  0.00000000e+00]\n",
      " [ 0.00000000e+00  0.00000000e+00  2.54444444e+04]\n",
      " [ 0.00000000e+00 -1.26334837e+01 -1.27682994e+03]]\n",
      "B =  [[   0.            0.        ]\n",
      " [   0.         -301.38462397]\n",
      " [ 550.35773253    0.        ]]\n"
     ]
    }
   ],
   "source": [
    "A = np.array([[0., 1., 0.],[0., 0., Kt/J], [0., -Ke/L,-R/L]])\n",
    "B = np.array([[0.0, 0.0],[0., -torque_at_z/J], [1./L, 0.]])\n",
    "print('A = ', A)\n",
    "print('B = ', B)"
   ]
  },
  {
   "cell_type": "markdown",
   "id": "75fc52e0-94b8-44e8-9039-32b1c9fe4930",
   "metadata": {},
   "source": [
    "State space : $x = \\begin{bmatrix}\\theta \\\\ \\dot\\theta \\\\ i\\end{bmatrix}$\n",
    "Input : $u = \\begin{bmatrix}V\\\\ z\\end{bmatrix}$ "
   ]
  },
  {
   "cell_type": "code",
   "execution_count": 75,
   "id": "b61ac017-2f84-43ca-8cf3-d9a2123a68b3",
   "metadata": {},
   "outputs": [],
   "source": [
    "x = np.array([0., 0., 0.0])\n",
    "u = np.array([12., 100.]) # V, m\n",
    "\n",
    "dt = 1e-5\n",
    "tmax = 0.1\n",
    "result_x = np.array((0, x[0], x[1], x[2]))\n",
    "\n",
    "def f(x, u):\n",
    "    u_non_rev = u\n",
    "    #if((Kt*x[2]-torque_at_z*u[1])<0):\n",
    "    #    u_non_rev[1] = Kt*x[2]/torque_at_z\n",
    "    return (A @ x) + (B @ u_non_rev)\n",
    "\n",
    "for t in np.arange(dt, tmax, dt):\n",
    "    x+=f(x, u)*dt\n",
    "    \n",
    "    result_x = np.vstack([result_x, np.array((t, x[0], x[1], x[2]))])\n",
    "    \n",
    "result_i = np.transpose(result_x)[3] + 20e-3 # Add No load current"
   ]
  },
  {
   "cell_type": "code",
   "execution_count": 76,
   "id": "6ef55e75-6b26-4e76-b043-f3d0fe9bb49b",
   "metadata": {},
   "outputs": [
    {
     "name": "stdout",
     "output_type": "stream",
     "text": [
      "i_max = 4.283 A\n",
      "i_end = 1.204 A\n",
      "dtheta = 403.049 rad/s\n"
     ]
    },
    {
     "data": {
      "image/png": "[encoded data removed]",
      "text/plain": [
       "<Figure size 1080x360 with 3 Axes>"
      ]
     },
     "metadata": {
      "needs_background": "light"
     },
     "output_type": "display_data"
    }
   ],
   "source": [
    "# Display\n",
    "fig, axs = plt.subplots(1,3)\n",
    "fig.suptitle('Results')\n",
    "axs[0].plot(np.transpose(result_x)[0], np.floor(np.transpose(result_x)[1]*quadrature_resolution/(2*np.pi)))\n",
    "axs[0].set_xlabel('Time (in s)')\n",
    "#axs[0].set_ylabel('theta (in rad)')\n",
    "axs[0].set_ylabel('pulses')\n",
    "\n",
    "axs[1].plot(np.transpose(result_x)[0], np.transpose(result_x)[2])\n",
    "axs[1].set_xlabel('Time (in s)')\n",
    "axs[1].set_ylabel('dtheta (in rad/s)')\n",
    "\n",
    "axs[2].plot(np.transpose(result_x)[0], result_i)\n",
    "axs[2].set_xlabel('Time (in s)')\n",
    "axs[2].set_ylabel('i (in A)')\n",
    "\n",
    "# Analysis\n",
    "print('i_max = {:.3f} A'.format(np.max(result_i)))\n",
    "print('i_end = {:.3f} A'.format(result_i[-3]))\n",
    "print('dtheta = {:.3f} rad/s'.format(np.max(np.transpose(result_x)[2])))"
   ]
  },
  {
   "cell_type": "code",
   "execution_count": 77,
   "id": "174dbfc6-38e9-49bc-a4cf-e5c64f1aa473",
   "metadata": {},
   "outputs": [
    {
     "name": "stdout",
     "output_type": "stream",
     "text": [
      "i_max = 350 bit\n",
      "i_end = 98 bit\n"
     ]
    },
    {
     "data": {
      "image/png": "[encoded data removed]",
      "text/plain": [
       "<Figure size 1080x360 with 2 Axes>"
      ]
     },
     "metadata": {
      "needs_background": "light"
     },
     "output_type": "display_data"
    }
   ],
   "source": [
    "result_i_adc = np.floor(result_i*current_to_adc)\n",
    "\n",
    "fig, axs = plt.subplots(1,2)\n",
    "fig.suptitle('Results')\n",
    "axs[0].plot(np.transpose(result_x)[0], result_i_adc)\n",
    "axs[0].set_xlabel('Time (in s)')\n",
    "axs[0].set_ylabel('i (in 12-bit ADC)')\n",
    "\n",
    "print('i_max = {:g} bit'.format(np.max(result_i_adc)))\n",
    "print('i_end = {:g} bit'.format(result_i_adc[-3]))"
   ]
  },
  {
   "cell_type": "code",
   "execution_count": null,
   "id": "fab02da6-93c9-4c5d-a5b2-c5d7f99e0c8f",
   "metadata": {},
   "outputs": [],
   "source": []
  }
 ],
 "metadata": {
  "kernelspec": {
   "display_name": "Python 3 (ipykernel)",
   "language": "python",
   "name": "python3"
  },
  "language_info": {
   "codemirror_mode": {
    "name": "ipython",
    "version": 3
   },
   "file_extension": ".py",
   "mimetype": "text/x-python",
   "name": "python",
   "nbconvert_exporter": "python",
   "pygments_lexer": "ipython3",
   "version": "3.9.7"
  }
 },
 "nbformat": 4,
 "nbformat_minor": 5
}
